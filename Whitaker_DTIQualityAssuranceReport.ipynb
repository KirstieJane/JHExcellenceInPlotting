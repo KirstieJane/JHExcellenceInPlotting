{
 "metadata": {
  "name": "DTI Quality Assurance Report"
 },
 "nbformat": 3,
 "nbformat_minor": 0,
 "worksheets": [
  {
   "cells": [
    {
     "cell_type": "heading",
     "level": 1,
     "metadata": {},
     "source": "DTI Quality Assurance Report"
    },
    {
     "cell_type": "markdown",
     "metadata": {},
     "source": "Submitted by Kirstie Whitaker on 23rd March 2014 to the [SciPy John Hunter Excellence in Plotting Contest](https://conference.scipy.org/scipy2014/plotting_contest/)"
    },
    {
     "cell_type": "heading",
     "level": 2,
     "metadata": {},
     "source": "Abstract"
    },
    {
     "cell_type": "markdown",
     "metadata": {},
     "source": "Diffusion tensor imaging (DTI) is a widely used neuroimaging technique used to infer information about the structure of white matter in the brain. It harnesses the fact that water diffusion is impeded by cellular structures and the fact that in white matter this movement is not equal in all directions. Non-isotropic diffusion arises because the myelin sheath that insulates axons only limits water movement perpendicular to the axon path. From many volumes that apply different diffusion weighting gradients a diffusion tensor can be estimated and quantitative measures calculated.\n\nThe goal of this quality assurance code is to ensure that the pre-processing and tensor fitting code that researchers apply to their raw DTI data has lead to good enough quality data to include in statistical modelling of a larger group. It generates a one page pdf report that is easy to access, share and compare across subjects. In the top panel are slices of the raw data with a colored overlay of the brain mask. This brain mask is used in almost all future analyses and if it has been calculated incorrectly there are major repercussions to the data that is analysed. In the second panel are plots of how the brain has moved from each volume to the next. These movement parameters are calculated by realigning each volume to the first (absolute) or previous (relative) volume. In the first plot every volume is included, while in the second and third only non diffusion-weighted and diffusion-weighted volumes respectively are included. The diffusion weighting induces eddy currents in the images so the realignment from diffusion weighted to non-diffusion weighted volumes may not be due to movement and therefore shouldn't be considered as \"poor\" quality data. The third panel shows slices through the fractional anisotropy map overlaid with a white matter mask that has been calculated from an independent data set. These files are often integral to later analyses and it is therefore particularly important to check that they look good and have been calculated accurately. In the final panel are histograms of the fractional anisotropy, mode of anisotropy and sum of square error (SSE) values for all voxels that lie within the white matter mask. The SSE values are particularly useful in understanding whether data in white matter has been accurately fitted to the tensor model.\n\nThis code helps to solve a very real scientific problem: that of noisy data being included in statistical analyses. The axes for the line plots and histograms are purposely fixed so that the reports can be easily compared between subjects. Additional code (not provided) can compile this data together to mark participants as statistical outliers or having data that does not pass certain quality control constraints. This quality assurance plotting code does not make any judgements of data quality but facilitates researchers in making their own careful considerations. Additionally, it allows researchers who share their data to concisely describe the quality of their DTI scan data."
    },
    {
     "cell_type": "heading",
     "level": 2,
     "metadata": {},
     "source": "Code"
    },
    {
     "cell_type": "heading",
     "level": 3,
     "metadata": {},
     "source": "Import the modules you're going to use"
    },
    {
     "cell_type": "code",
     "collapsed": false,
     "input": "import os\nimport numpy as np\nimport matplotlib.pylab as plt\nimport nibabel as nib\nfrom glob import glob\nimport pandas as pd\nimport matplotlib.gridspec as gridspec\nimport matplotlib.patches as patches",
     "language": "python",
     "metadata": {},
     "outputs": [],
     "prompt_number": 260
    },
    {
     "cell_type": "heading",
     "level": 3,
     "metadata": {},
     "source": "Now define the functions you're going to use"
    },
    {
     "cell_type": "code",
     "collapsed": false,
     "input": "def plot_dti_slices(background_file, overlay_file, fig, grid, ax_name_list, cmap='jet'):\n        \n    # LOAD THE DATA\n    bg_img = nib.load(background_file)\n    bg = bg_img.get_data()\n    \n    overlay_img = nib.load(overlay_file)\n    overlay = overlay_img.get_data()\n\n    # Make sure all data is float:\n    bg = bg/1.\n    overlay = overlay/1.\n    \n    # Scale the data by its maximum\n    bg = bg / bg.max()\n    overlay = overlay / overlay.max()    \n        \n    # Now we're going to loop through the different slice orientations\n\n    for i, axis_name in enumerate(ax_name_list):\n        if axis_name == 'axial':\n            # Align so that right is right\n            overlay_plot = np.rot90(overlay)\n            overlay_plot = np.fliplr(overlay_plot)\n            bg_plot = np.rot90(bg)\n            bg_plot = np.fliplr(bg_plot)\n    \n        elif axis_name == 'coronal':\n            overlay_plot = np.rot90(overlay)\n            bg_plot = np.rot90(bg)\n            overlay_plot = np.flipud(np.swapaxes(overlay_plot, 0, 2))\n            bg_plot = np.flipud(np.swapaxes(bg_plot, 0, 2))\n\n        elif axis_name == 'sagittal':\n            overlay_plot = np.flipud(np.swapaxes(overlay, 0, 2))\n            bg_plot = np.flipud(np.swapaxes(bg, 0, 2))\n\n        n = ( np.float(bg_plot.shape[1])/bg_plot.shape[2] ) * (np.float(figsize[0])/ (0.15 * figsize[1]))\n\n        n_floor = np.int(np.floor(n))\n        \n        inner_grid = gridspec.GridSpecFromSubplotSpec(1, n_floor,\n                         subplot_spec=grid[i], wspace=0.0, hspace=0.0)\n        \n        for j, slice_id in enumerate(np.linspace(0 , bg_plot.shape[2], n_floor+2)[1:-1]):\n        \n            bg_slice = bg_plot[:,:,slice_id]\n            overlay_slice = overlay_plot[:,:,slice_id]\n            \n            ax = plt.Subplot(fig, inner_grid[j])\n            fig.add_subplot(ax)\n\n            # Add a black background\n            black = ax.imshow(np.ones_like(bg_slice),\n                                    interpolation='none',\n                                    cmap='gray')\n            \n            # Mask the data\n            m_overlay_slice = np.ma.masked_where(overlay_slice==0, overlay_slice)\n\n            # First show the background slice\n            im1 = ax.imshow(bg_slice,\n                                interpolation='none',\n                                cmap='gray',\n                                vmin = 0,\n                                vmax = 1)\n    \n            # Then overlay the overlay_slice\n            im2 = ax.imshow(m_overlay_slice,\n                                interpolation='none',\n                                cmap=cmap,\n                                vmin = 0,\n                                vmax = 1,\n                                alpha = 0.3)\n               \n            # Turn off axis labels\n            ax.get_xaxis().set_visible(False)\n            ax.get_yaxis().set_visible(False)\n            ax.set_frame_on(False)\n            \n    return fig",
     "language": "python",
     "metadata": {},
     "outputs": [],
     "prompt_number": 261
    },
    {
     "cell_type": "code",
     "collapsed": false,
     "input": "def plot_movement_params(dti_dir, fig, grid):\n    measures = ['abs', 'rel']\n    measure_suffixes = [ '', '_b0', '_notb0' ]\n    \n    # Loop through the measure suffixes ('', '_b0', '_notb0')\n    # which you can think of as the groups of volumes that are being considered\n    # and find the data from each of thoese files\n    for i, suffix in enumerate(measure_suffixes):\n        \n        ax = plt.Subplot(fig, grid[i])\n        fig.add_subplot(ax)\n\n        # Read in the files\n        disp = pd.read_csv(os.path.join(dti_dir, 'ec_disp{}.txt'.format(suffix)),\n                            delimiter=' ', header=None,\n                            names=['abs'+suffix, 'rel'+suffix], na_values='.')\n\n        # Loop through the three different values that you want to know\n        # for the two different measures (abs and rel)\n        for measure in measures:\n\n            ax.plot(disp[measure+suffix][disp[measure+suffix].notnull()], label=measure)\n                \n        # Label the x axis according to which plot this is:\n        if suffix == '':\n            ax.set_xlabel('Volume Number')\n        elif suffix == '_b0':\n            ax.set_xlabel('B0 Volume Number')\n        else:\n            ax.set_xlabel('Diff weighted Volume Number')\n        \n        # Set the y axis to always between 0 and 3\n        ax.set_ylim(0,3)\n        \n        # Only label the first y axis\n        if i == 0:\n            # And label the yaxis\n            ax.set_ylabel('Displacement (mm)')\n            \n        # Add a legend\n        leg = ax.legend(loc=2, fontsize=8)\n        leg.get_frame().set_alpha(0.5)\n        \n    return fig",
     "language": "python",
     "metadata": {},
     "outputs": [],
     "prompt_number": 262
    },
    {
     "cell_type": "code",
     "collapsed": false,
     "input": "def tensor_histogram(fa_file, mo_file, sse_file, wm_mask_file, fig, grid):\n    \n    # Load in the data\n    fa_img = nib.load(fa_file)\n    fa = fa_img.get_data()\n    mo_img = nib.load(mo_file)\n    mo = mo_img.get_data()\n    sse_img = nib.load(sse_file)\n    sse = sse_img.get_data()\n    \n    wm_mask_img = nib.load(wm_mask_file)\n    wm_mask = wm_mask_img.get_data()\n    \n    # Mask the fa data with the white matter mask\n    # so we're only looking inside the mask\n    fa = fa * wm_mask\n    \n    # Add a subplot to the first space in the grid\n    # and enter a histogram of FA values\n    ax = plt.Subplot(fig, grid[0])\n    fig.add_subplot(ax)    \n    ax.hist(fa[fa>0].reshape(-1), bins=np.linspace(0,1,100), color='green',histtype='stepfilled')\n    # Label the x axis:\n    ax.set_xlabel('Fractional Anisotropy')\n    # Set the y axis to always between 0 and 2500\n    ax.set_ylim(0,2500)\n    # Adjust the power limits so that you use scientific notation on the y axis\n    ax.ticklabel_format(style='sci', axis='y')\n    ax.yaxis.major.formatter.set_powerlimits((-3,3))\n\n    # Only label this first y axis as they're all the same\n    ax.set_ylabel('Number of voxels')\n    \n    # Add a subplot to the second space in the grid\n    # and plot a histogram of mode values\n    ax = plt.Subplot(fig, grid[1])\n    fig.add_subplot(ax)    \n    ax.hist(mo[fa>0].reshape(-1), bins=np.linspace(-1,1,100), color='orange', histtype='stepfilled')\n    # Label the x axes:\n    ax.set_xlabel('Mode of Anisotropy')\n    # Set the y axis to always between 0 and 3500\n    ax.set_ylim(0,3500)\n    # Adjust the power limits so that you use scientific notation on the y axis\n    #plt.ticklabel_format(style='sci', axis='y')\n    ax.yaxis.major.formatter.set_powerlimits((-3,3))\n\n    \n    # Add a subplot to the third space in the grid\n    # and plot a histogram of sum of square errors\n    # Note that low values are very good - they indicate voxels\n    # that have a good fit to the diffusion tensor model.\n    # The y-axis is therefore limited so that the histogram highlights\n    # \"bad\" fit voxels.\n\n    ax = plt.Subplot(fig, grid[2])\n    fig.add_subplot(ax)    \n    ax.hist(sse[fa>0].reshape(-1), bins=np.linspace(0,5,100), color='red', histtype='stepfilled')\n    # Label the x axis:\n    ax.set_xlabel('Sum of Square Errors')\n    # Set the y axis to always between 0 and 3500\n    ax.set_ylim(0,100)\n    \n    return fig",
     "language": "python",
     "metadata": {},
     "outputs": [],
     "prompt_number": 263
    },
    {
     "cell_type": "code",
     "collapsed": false,
     "input": "def add_background(fig, grid):\n    ax = plt.Subplot(fig, grid[0])\n    fig.add_subplot(ax)\n\n    # Add a black background\n    black = ax.imshow(np.ones([100,100]),\n                            interpolation='none',\n                            cmap='gray',\n                            aspect='auto')\n    # Turn off axis labels\n    ax.get_xaxis().set_visible(False)\n    ax.get_yaxis().set_visible(False)\n    ax.set_frame_on(False)\n\n    return fig",
     "language": "python",
     "metadata": {},
     "outputs": [],
     "prompt_number": 264
    },
    {
     "cell_type": "code",
     "collapsed": false,
     "input": "def add_header(fig, grid):\n    ax = plt.Subplot(fig, grid[0])\n    fig.add_subplot(ax)\n\n    # The header simply says:\n    header_text = \"Diffusion Tensor Imaging Quality Report\\n\\nSubID:____________  Date:____________\"\n    \n    ax.text(0.05, 0.5, header_text, transform=ax.transAxes, fontsize=14,\n                   horizontalalignment='left', verticalalignment='center')\n    \n    # On the right we'll add two options:\n    quality_text = \"Pass\"\n\n    ax.text(0.82, 0.55, quality_text, transform=ax.transAxes, fontsize=18,\n                   horizontalalignment='right', verticalalignment='bottom')\n\n    ax.add_patch(Rectangle((0.84,0.55),0.1,0.35, color='black', fill=False))\n\n    quality_text = \"Fail\"\n\n    ax.text(0.82, 0.15, quality_text, transform=ax.transAxes, fontsize=18,\n                   horizontalalignment='right', verticalalignment='bottom')\n    \n    ax.add_patch(Rectangle((0.84,0.15),0.1,0.35, color='black', fill=False))\n    \n    # Turn off axis labels\n    ax.get_xaxis().set_visible(False)\n    ax.get_yaxis().set_visible(False)\n    ax.set_frame_on(False)\n\n    return fig",
     "language": "python",
     "metadata": {},
     "outputs": [],
     "prompt_number": 265
    },
    {
     "cell_type": "heading",
     "level": 3,
     "metadata": {},
     "source": "Define the files you're going to need"
    },
    {
     "cell_type": "code",
     "collapsed": false,
     "input": "dropbox_dir = glob(os.path.join('C:/','Users', '*', 'Dropbox'))[0]\nexternal_scripts_dir = os.path.join(dropbox_dir, 'GitHub', 'DESCRIBING_DATA')\ndata_dir = os.path.join(dropbox_dir, 'PYTHON', 'KW_Brain')\nfigures_dir = os.path.join(data_dir, 'FIGS')\nif not os.path.isdir(figures_dir):\n    os.makedirs(figures_dir)\n\ndti_file = os.path.join(data_dir, 'dti_ec.nii.gz')\nbvals_file = os.path.join(data_dir, 'bvals')\nbvecs_file = os.path.join(data_dir, 'bvecs')\ndti_vol0_file = os.path.join(data_dir, 'dti_ec_00.nii.gz')\nmask_file = os.path.join(data_dir, 'dti_ec_brain_mask.nii.gz')\nwm_mask_file = os.path.join(data_dir, 'whitematter_mask.nii.gz')\nfa_file = glob(os.path.join(data_dir, '*_FA.nii.gz'))[0]\nmo_file = glob(os.path.join(data_dir, '*_MO.nii.gz'))[0]\nsse_file = glob(os.path.join(data_dir, '*_sse.nii.gz'))[0]",
     "language": "python",
     "metadata": {},
     "outputs": [],
     "prompt_number": 266
    },
    {
     "cell_type": "heading",
     "level": 3,
     "metadata": {},
     "source": "Now actually run the code"
    },
    {
     "cell_type": "markdown",
     "metadata": {},
     "source": "Create a figure that's the same size as an A4 piece of paper"
    },
    {
     "cell_type": "code",
     "collapsed": false,
     "input": "figsize = (8.3,11.6)\n\nfig = plt.figure(figsize = figsize)",
     "language": "python",
     "metadata": {},
     "outputs": [
      {
       "metadata": {},
       "output_type": "display_data",
       "text": "<matplotlib.figure.Figure at 0x158e5128>"
      }
     ],
     "prompt_number": 267
    },
    {
     "cell_type": "markdown",
     "metadata": {},
     "source": "Now set up the plotting areas using GridSpec "
    },
    {
     "cell_type": "code",
     "collapsed": false,
     "input": "# Header grid - to contain the header at the top of the page\nheader_grid = gridspec.GridSpec(1,1)\nheader_grid.update(left=0.05, right=0.95, top = 0.98, bottom = 0.9)\n\n# Background A - to go behind brain_grid A\nbgA_grid = gridspec.GridSpec(1, 1)\nbgA_grid.update(left=0.05, right=0.95, top = 0.9, bottom = 0.65)\n\n# Brain grid A - non-diffusion weighted image and brain mask\nbrainA_grid = gridspec.GridSpec(3, 1)\nbrainA_grid.update(left=0.05, right=0.95, top = 0.9, bottom = 0.65)\n\n# Movement grid - movement and eddy_correct realignment parameters \nmovement_grid = gridspec.GridSpec(1, 3)\nmovement_grid.update(left=0.1, right=0.95, top = 0.63, bottom = 0.5, wspace=0.2)\n\n# Background B - to go behind brain_grid B\nbgB_grid = gridspec.GridSpec(1, 1)\nbgB_grid.update(left=0.05, right=0.95, top = 0.45, bottom = 0.2)\n\n# Brain grid B - FA image and white matter mask\nbrainB_grid = gridspec.GridSpec(3, 1)\nbrainB_grid.update(left=0.05, right=0.95, top = 0.45, bottom = 0.2)\n\n# Histogram grid - histograms of FA, MO, and sum of square errors\nhist_grid = gridspec.GridSpec(1, 3)\nhist_grid.update(left=0.1, right=0.95, top = 0.18, bottom = 0.05, wspace=0.2)",
     "language": "python",
     "metadata": {},
     "outputs": [],
     "prompt_number": 268
    },
    {
     "cell_type": "markdown",
     "metadata": {},
     "source": "Fill in these plotting areas using the functions defined above"
    },
    {
     "cell_type": "code",
     "collapsed": false,
     "input": "fig = add_header(fig, header_grid)\nfig = add_background(fig, bgA_grid)\nfig = plot_dti_slices(dti_vol0_file, mask_file, fig, brainA_grid, ['sagittal', 'coronal', 'axial'], cmap='cool_r')\nfig = plot_movement_params(data_dir, fig, movement_grid)\nfig = add_background(fig, bgB_grid)\nfig = plot_dti_slices(fa_file, wm_mask_file, fig, brainB_grid, ['sagittal', 'coronal', 'axial'], cmap='cool')\nfig = tensor_histogram(fa_file, mo_file, sse_file, wm_mask_file, fig, hist_grid)",
     "language": "python",
     "metadata": {},
     "outputs": [],
     "prompt_number": 269
    },
    {
     "cell_type": "markdown",
     "metadata": {},
     "source": "Finally, save the figure"
    },
    {
     "cell_type": "code",
     "collapsed": false,
     "input": "fig.savefig(os.path.join(figures_dir, 'Report.pdf'), bbox_inches=0, dpi=300)",
     "language": "python",
     "metadata": {},
     "outputs": [],
     "prompt_number": 270
    },
    {
     "cell_type": "heading",
     "level": 1,
     "metadata": {},
     "source": "That's it! You're done :)"
    },
    {
     "cell_type": "code",
     "collapsed": false,
     "input": "",
     "language": "python",
     "metadata": {},
     "outputs": []
    }
   ],
   "metadata": {}
  }
 ]
}